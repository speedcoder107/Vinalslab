{
 "cells": [
  {
   "cell_type": "code",
   "execution_count": null,
   "metadata": {},
   "outputs": [
    {
     "name": "stdout",
     "output_type": "stream",
     "text": [
      "0\n",
      "20\n",
      "40\n",
      "60\n",
      "80\n",
      "100\n",
      "120\n",
      "140\n",
      "160\n",
      "180\n",
      "200\n",
      "220\n",
      "240\n",
      "260\n",
      "280\n",
      "300\n",
      "320\n",
      "340\n",
      "360\n",
      "380\n"
     ]
    }
   ],
   "source": [
    "import xygame as xg\n",
    "import numpy as np\n",
    "import matplotlib.pyplot as plt\n",
    "import math\n",
    "import pandas as pd\n",
    "\n",
    "# ---------------------------------------------------------------------\n",
    "\n",
    "rows = 20\n",
    "cols = 20\n",
    "beta = 0.9\n",
    "J = 1\n",
    "b = 2\n",
    "\n",
    "import ast\n",
    "\n",
    "# Open and read the file\n",
    "with open(\"lattice.txt\", \"r\") as file:\n",
    "    data = file.read()\n",
    "\n",
    "# Convert the string (e.g., \"[1,2,3]\") into a Python list\n",
    "lattice = np.array(ast.literal_eval(data))\n",
    "lattice = lattice[:rows, :cols]\n",
    "# lattice = xg.lattice_generator(rows, cols)\n",
    "b_field = xg.field_generator(rows, cols, mag_left_most=0.0, mag_right_most=b, dir_left_most=0, dir_right_most=2*math.pi)\n",
    "model = xg.full_model(lattice=lattice, B_field=b_field, beta=beta, J=J, time = 0)\n",
    "\n",
    "MCS = 1\n",
    "time = MCS * rows * cols\n",
    "\n",
    "xi_list = [8,4]\n",
    "avg_energy_list = np.array([])\n",
    "defect_list = np.array([])\n",
    "distances = np.arange(max(rows, cols) // 2).astype(float)\n",
    "eta_dot_field_list = np.empty((0, len(xi_list), 2, 2))\n",
    "eta_list = np.empty((0, len(xi_list), 2))\n",
    "b_field_list = np.empty((0, len(xi_list), 2))\n",
    "\n",
    "model.beta = beta\n",
    "sum_counter = 0\n",
    "\n",
    "# Initialize the step size for the x-axis for graph only\n",
    "time_axis = np.array([])  # Initialize x-axis for time steps\n",
    "\n",
    "for i in range(time):\n",
    "    if i % (rows) == 0:\n",
    "        print(i)\n",
    "        eta_dot_field = np.empty((0, 2, 2))\n",
    "        eta = np.empty((0, 2))\n",
    "        b_field = np.empty((0, 2))\n",
    "        for xi in xi_list:\n",
    "            eta_dot_field = np.append(eta_dot_field, [xg.find_eta_dot_field(model, xi)], axis=0)\n",
    "            eta = np.append(eta, [xg.find_eta(model, xi)], axis=0)\n",
    "            b_field = np.append(b_field, [xg.find_field(model, xi)], axis=0)\n",
    "        eta_dot_field_list = np.append(eta_dot_field_list, [eta_dot_field], axis=0)\n",
    "        eta_list = np.append(eta_list, [eta], axis=0)\n",
    "        b_field_list = np.append(b_field_list, [b_field], axis=0)\n",
    "        time_axis = np.append(time_axis, i)  # Append time step to x-axis\n",
    "        avg_energy_list = np.append(avg_energy_list, xg.get_avg_energy(model))\n",
    "        defect_list = np.append(defect_list, xg.find_num_of_defects(model))\n",
    "    xg.metropolis(model)\n",
    "    model.time += 1\n",
    "\n",
    "coerr_list = np.array(xg.correlation(model))\n",
    "\n",
    "# create a database to store time_axis, coerr_list, defect_list, avg_energy_list, eta_dot_field_list, eta_list, b_field_list\n",
    "data = {\n",
    "    'Time': time_axis,\n",
    "    'Defect': defect_list,\n",
    "    'Avg_Energy': avg_energy_list,\n",
    "    'eta_dot_field': eta_dot_field_list.tolist(), \n",
    "    'eta': eta_list.tolist(),\n",
    "    'b_field': b_field_list.tolist(),\n",
    "    'Distance': distances,\n",
    "    'Coerr': coerr_list\n",
    "}\n",
    "\n",
    "df = pd.DataFrame(dict([(k, pd.Series(v)) for k, v in data.items()]))\n",
    "df.to_csv(f\"results for beta = {beta} and b = {b}.csv\", index=False)\n"
   ]
  },
  {
   "cell_type": "code",
   "execution_count": null,
   "metadata": {},
   "outputs": [
    {
     "name": "stdout",
     "output_type": "stream",
     "text": [
      "<class 'numpy.ndarray'>\n"
     ]
    }
   ],
   "source": []
  }
 ],
 "metadata": {
  "kernelspec": {
   "display_name": ".venv",
   "language": "python",
   "name": "python3"
  },
  "language_info": {
   "codemirror_mode": {
    "name": "ipython",
    "version": 3
   },
   "file_extension": ".py",
   "mimetype": "text/x-python",
   "name": "python",
   "nbconvert_exporter": "python",
   "pygments_lexer": "ipython3",
   "version": "3.13.1"
  }
 },
 "nbformat": 4,
 "nbformat_minor": 2
}
